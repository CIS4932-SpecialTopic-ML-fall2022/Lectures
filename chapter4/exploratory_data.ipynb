{
 "cells": [
  {
   "cell_type": "markdown",
   "metadata": {},
   "source": [
    "# Introduction to Statistic: Exploratory Data Anaysis"
   ]
  },
  {
   "cell_type": "code",
   "execution_count": 1,
   "metadata": {},
   "outputs": [],
   "source": [
    "import pandas as pd\n",
    "import scipy.stats as sta\n",
    "import numpy as np\n",
    "import matplotlib.pyplot as plt\n",
    "import math"
   ]
  },
  {
   "cell_type": "code",
   "execution_count": 2,
   "metadata": {},
   "outputs": [
    {
     "data": {
      "text/html": [
       "<div>\n",
       "<style scoped>\n",
       "    .dataframe tbody tr th:only-of-type {\n",
       "        vertical-align: middle;\n",
       "    }\n",
       "\n",
       "    .dataframe tbody tr th {\n",
       "        vertical-align: top;\n",
       "    }\n",
       "\n",
       "    .dataframe thead th {\n",
       "        text-align: right;\n",
       "    }\n",
       "</style>\n",
       "<table border=\"1\" class=\"dataframe\">\n",
       "  <thead>\n",
       "    <tr style=\"text-align: right;\">\n",
       "      <th></th>\n",
       "      <th>State</th>\n",
       "      <th>Year</th>\n",
       "      <th>Data.Population</th>\n",
       "      <th>Data.Rates.Property.All</th>\n",
       "      <th>Data.Rates.Property.Burglary</th>\n",
       "      <th>Data.Rates.Property.Larceny</th>\n",
       "      <th>Data.Rates.Property.Motor</th>\n",
       "      <th>Data.Rates.Violent.All</th>\n",
       "      <th>Data.Rates.Violent.Assault</th>\n",
       "      <th>Data.Rates.Violent.Murder</th>\n",
       "      <th>...</th>\n",
       "      <th>Data.Rates.Violent.Robbery</th>\n",
       "      <th>Data.Totals.Property.All</th>\n",
       "      <th>Data.Totals.Property.Burglary</th>\n",
       "      <th>Data.Totals.Property.Larceny</th>\n",
       "      <th>Data.Totals.Property.Motor</th>\n",
       "      <th>Data.Totals.Violent.All</th>\n",
       "      <th>Data.Totals.Violent.Assault</th>\n",
       "      <th>Data.Totals.Violent.Murder</th>\n",
       "      <th>Data.Totals.Violent.Rape</th>\n",
       "      <th>Data.Totals.Violent.Robbery</th>\n",
       "    </tr>\n",
       "  </thead>\n",
       "  <tbody>\n",
       "    <tr>\n",
       "      <th>0</th>\n",
       "      <td>Alabama</td>\n",
       "      <td>1960</td>\n",
       "      <td>3266740</td>\n",
       "      <td>1035.4</td>\n",
       "      <td>355.9</td>\n",
       "      <td>592.1</td>\n",
       "      <td>87.3</td>\n",
       "      <td>186.6</td>\n",
       "      <td>138.1</td>\n",
       "      <td>12.4</td>\n",
       "      <td>...</td>\n",
       "      <td>27.5</td>\n",
       "      <td>33823</td>\n",
       "      <td>11626</td>\n",
       "      <td>19344</td>\n",
       "      <td>2853</td>\n",
       "      <td>6097</td>\n",
       "      <td>4512</td>\n",
       "      <td>406</td>\n",
       "      <td>281</td>\n",
       "      <td>898</td>\n",
       "    </tr>\n",
       "    <tr>\n",
       "      <th>1</th>\n",
       "      <td>Alabama</td>\n",
       "      <td>1961</td>\n",
       "      <td>3302000</td>\n",
       "      <td>985.5</td>\n",
       "      <td>339.3</td>\n",
       "      <td>569.4</td>\n",
       "      <td>76.8</td>\n",
       "      <td>168.5</td>\n",
       "      <td>128.9</td>\n",
       "      <td>12.9</td>\n",
       "      <td>...</td>\n",
       "      <td>19.1</td>\n",
       "      <td>32541</td>\n",
       "      <td>11205</td>\n",
       "      <td>18801</td>\n",
       "      <td>2535</td>\n",
       "      <td>5564</td>\n",
       "      <td>4255</td>\n",
       "      <td>427</td>\n",
       "      <td>252</td>\n",
       "      <td>630</td>\n",
       "    </tr>\n",
       "    <tr>\n",
       "      <th>2</th>\n",
       "      <td>Alabama</td>\n",
       "      <td>1962</td>\n",
       "      <td>3358000</td>\n",
       "      <td>1067.0</td>\n",
       "      <td>349.1</td>\n",
       "      <td>634.5</td>\n",
       "      <td>83.4</td>\n",
       "      <td>157.3</td>\n",
       "      <td>119.0</td>\n",
       "      <td>9.4</td>\n",
       "      <td>...</td>\n",
       "      <td>22.5</td>\n",
       "      <td>35829</td>\n",
       "      <td>11722</td>\n",
       "      <td>21306</td>\n",
       "      <td>2801</td>\n",
       "      <td>5283</td>\n",
       "      <td>3995</td>\n",
       "      <td>316</td>\n",
       "      <td>218</td>\n",
       "      <td>754</td>\n",
       "    </tr>\n",
       "    <tr>\n",
       "      <th>3</th>\n",
       "      <td>Alabama</td>\n",
       "      <td>1963</td>\n",
       "      <td>3347000</td>\n",
       "      <td>1150.9</td>\n",
       "      <td>376.9</td>\n",
       "      <td>683.4</td>\n",
       "      <td>90.6</td>\n",
       "      <td>182.7</td>\n",
       "      <td>142.1</td>\n",
       "      <td>10.2</td>\n",
       "      <td>...</td>\n",
       "      <td>24.7</td>\n",
       "      <td>38521</td>\n",
       "      <td>12614</td>\n",
       "      <td>22874</td>\n",
       "      <td>3033</td>\n",
       "      <td>6115</td>\n",
       "      <td>4755</td>\n",
       "      <td>340</td>\n",
       "      <td>192</td>\n",
       "      <td>828</td>\n",
       "    </tr>\n",
       "    <tr>\n",
       "      <th>4</th>\n",
       "      <td>Alabama</td>\n",
       "      <td>1964</td>\n",
       "      <td>3407000</td>\n",
       "      <td>1358.7</td>\n",
       "      <td>466.6</td>\n",
       "      <td>784.1</td>\n",
       "      <td>108.0</td>\n",
       "      <td>213.1</td>\n",
       "      <td>163.0</td>\n",
       "      <td>9.3</td>\n",
       "      <td>...</td>\n",
       "      <td>29.1</td>\n",
       "      <td>46290</td>\n",
       "      <td>15898</td>\n",
       "      <td>26713</td>\n",
       "      <td>3679</td>\n",
       "      <td>7260</td>\n",
       "      <td>5555</td>\n",
       "      <td>316</td>\n",
       "      <td>397</td>\n",
       "      <td>992</td>\n",
       "    </tr>\n",
       "  </tbody>\n",
       "</table>\n",
       "<p>5 rows × 21 columns</p>\n",
       "</div>"
      ],
      "text/plain": [
       "     State  Year  Data.Population  Data.Rates.Property.All  \\\n",
       "0  Alabama  1960          3266740                   1035.4   \n",
       "1  Alabama  1961          3302000                    985.5   \n",
       "2  Alabama  1962          3358000                   1067.0   \n",
       "3  Alabama  1963          3347000                   1150.9   \n",
       "4  Alabama  1964          3407000                   1358.7   \n",
       "\n",
       "   Data.Rates.Property.Burglary  Data.Rates.Property.Larceny  \\\n",
       "0                         355.9                        592.1   \n",
       "1                         339.3                        569.4   \n",
       "2                         349.1                        634.5   \n",
       "3                         376.9                        683.4   \n",
       "4                         466.6                        784.1   \n",
       "\n",
       "   Data.Rates.Property.Motor  Data.Rates.Violent.All  \\\n",
       "0                       87.3                   186.6   \n",
       "1                       76.8                   168.5   \n",
       "2                       83.4                   157.3   \n",
       "3                       90.6                   182.7   \n",
       "4                      108.0                   213.1   \n",
       "\n",
       "   Data.Rates.Violent.Assault  Data.Rates.Violent.Murder  ...  \\\n",
       "0                       138.1                       12.4  ...   \n",
       "1                       128.9                       12.9  ...   \n",
       "2                       119.0                        9.4  ...   \n",
       "3                       142.1                       10.2  ...   \n",
       "4                       163.0                        9.3  ...   \n",
       "\n",
       "   Data.Rates.Violent.Robbery  Data.Totals.Property.All  \\\n",
       "0                        27.5                     33823   \n",
       "1                        19.1                     32541   \n",
       "2                        22.5                     35829   \n",
       "3                        24.7                     38521   \n",
       "4                        29.1                     46290   \n",
       "\n",
       "   Data.Totals.Property.Burglary  Data.Totals.Property.Larceny  \\\n",
       "0                          11626                         19344   \n",
       "1                          11205                         18801   \n",
       "2                          11722                         21306   \n",
       "3                          12614                         22874   \n",
       "4                          15898                         26713   \n",
       "\n",
       "   Data.Totals.Property.Motor  Data.Totals.Violent.All  \\\n",
       "0                        2853                     6097   \n",
       "1                        2535                     5564   \n",
       "2                        2801                     5283   \n",
       "3                        3033                     6115   \n",
       "4                        3679                     7260   \n",
       "\n",
       "   Data.Totals.Violent.Assault  Data.Totals.Violent.Murder  \\\n",
       "0                         4512                         406   \n",
       "1                         4255                         427   \n",
       "2                         3995                         316   \n",
       "3                         4755                         340   \n",
       "4                         5555                         316   \n",
       "\n",
       "   Data.Totals.Violent.Rape  Data.Totals.Violent.Robbery  \n",
       "0                       281                          898  \n",
       "1                       252                          630  \n",
       "2                       218                          754  \n",
       "3                       192                          828  \n",
       "4                       397                          992  \n",
       "\n",
       "[5 rows x 21 columns]"
      ]
     },
     "execution_count": 2,
     "metadata": {},
     "output_type": "execute_result"
    }
   ],
   "source": [
    "# dataset (https://corgis-edu.github.io/corgis/csv/state_crime/)\n",
    "\n",
    "# Mean, Median and Outliers\n",
    "\n",
    "data = pd.read_csv(\"state_crime.csv\")\n",
    "\n",
    "data.head()"
   ]
  },
  {
   "cell_type": "code",
   "execution_count": 3,
   "metadata": {},
   "outputs": [
    {
     "name": "stdout",
     "output_type": "stream",
     "text": [
      "States include in the analysis\n",
      " ['Alabama' 'Alaska' 'Arizona' 'Arkansas' 'California' 'Colorado'\n",
      " 'Connecticut' 'Delaware' 'District of Columbia' 'Florida' 'Georgia'\n",
      " 'Hawaii' 'Idaho' 'Illinois' 'Indiana' 'Iowa' 'Kansas' 'Kentucky'\n",
      " 'Louisiana' 'Maine' 'Maryland' 'Massachusetts' 'Michigan' 'Minnesota'\n",
      " 'Mississippi' 'Missouri' 'Montana' 'Nebraska' 'Nevada' 'New Hampshire'\n",
      " 'New Jersey' 'New Mexico' 'New York' 'North Carolina' 'North Dakota'\n",
      " 'Ohio' 'Oklahoma' 'Oregon' 'Pennsylvania' 'Rhode Island' 'South Carolina'\n",
      " 'South Dakota' 'Tennessee' 'Texas' 'United States' 'Utah' 'Vermont'\n",
      " 'Virginia' 'Washington' 'West Virginia' 'Wisconsin' 'Wyoming']\n",
      "Number of rows and number of columns: (52,21)\n",
      "\n"
     ]
    },
    {
     "data": {
      "text/html": [
       "<div>\n",
       "<style scoped>\n",
       "    .dataframe tbody tr th:only-of-type {\n",
       "        vertical-align: middle;\n",
       "    }\n",
       "\n",
       "    .dataframe tbody tr th {\n",
       "        vertical-align: top;\n",
       "    }\n",
       "\n",
       "    .dataframe thead th {\n",
       "        text-align: right;\n",
       "    }\n",
       "</style>\n",
       "<table border=\"1\" class=\"dataframe\">\n",
       "  <thead>\n",
       "    <tr style=\"text-align: right;\">\n",
       "      <th></th>\n",
       "      <th>State</th>\n",
       "      <th>Year</th>\n",
       "      <th>Data.Population</th>\n",
       "      <th>Data.Rates.Property.All</th>\n",
       "      <th>Data.Rates.Property.Burglary</th>\n",
       "      <th>Data.Rates.Property.Larceny</th>\n",
       "      <th>Data.Rates.Property.Motor</th>\n",
       "      <th>Data.Rates.Violent.All</th>\n",
       "      <th>Data.Rates.Violent.Assault</th>\n",
       "      <th>Data.Rates.Violent.Murder</th>\n",
       "      <th>...</th>\n",
       "      <th>Data.Rates.Violent.Robbery</th>\n",
       "      <th>Data.Totals.Property.All</th>\n",
       "      <th>Data.Totals.Property.Burglary</th>\n",
       "      <th>Data.Totals.Property.Larceny</th>\n",
       "      <th>Data.Totals.Property.Motor</th>\n",
       "      <th>Data.Totals.Violent.All</th>\n",
       "      <th>Data.Totals.Violent.Assault</th>\n",
       "      <th>Data.Totals.Violent.Murder</th>\n",
       "      <th>Data.Totals.Violent.Rape</th>\n",
       "      <th>Data.Totals.Violent.Robbery</th>\n",
       "    </tr>\n",
       "  </thead>\n",
       "  <tbody>\n",
       "    <tr>\n",
       "      <th>59</th>\n",
       "      <td>Alabama</td>\n",
       "      <td>2019</td>\n",
       "      <td>4903185</td>\n",
       "      <td>2674.4</td>\n",
       "      <td>531.9</td>\n",
       "      <td>1886.1</td>\n",
       "      <td>256.5</td>\n",
       "      <td>510.8</td>\n",
       "      <td>381.0</td>\n",
       "      <td>7.3</td>\n",
       "      <td>...</td>\n",
       "      <td>80.4</td>\n",
       "      <td>131133</td>\n",
       "      <td>26079</td>\n",
       "      <td>92477</td>\n",
       "      <td>12577</td>\n",
       "      <td>25046</td>\n",
       "      <td>18679</td>\n",
       "      <td>358</td>\n",
       "      <td>2068</td>\n",
       "      <td>3941</td>\n",
       "    </tr>\n",
       "    <tr>\n",
       "      <th>119</th>\n",
       "      <td>Alaska</td>\n",
       "      <td>2019</td>\n",
       "      <td>731545</td>\n",
       "      <td>2910.8</td>\n",
       "      <td>487.1</td>\n",
       "      <td>2066.0</td>\n",
       "      <td>357.7</td>\n",
       "      <td>867.1</td>\n",
       "      <td>596.0</td>\n",
       "      <td>9.4</td>\n",
       "      <td>...</td>\n",
       "      <td>112.9</td>\n",
       "      <td>21294</td>\n",
       "      <td>3563</td>\n",
       "      <td>15114</td>\n",
       "      <td>2617</td>\n",
       "      <td>6343</td>\n",
       "      <td>4360</td>\n",
       "      <td>69</td>\n",
       "      <td>1088</td>\n",
       "      <td>826</td>\n",
       "    </tr>\n",
       "    <tr>\n",
       "      <th>179</th>\n",
       "      <td>Arizona</td>\n",
       "      <td>2019</td>\n",
       "      <td>7278717</td>\n",
       "      <td>2440.5</td>\n",
       "      <td>394.3</td>\n",
       "      <td>1796.9</td>\n",
       "      <td>249.4</td>\n",
       "      <td>455.3</td>\n",
       "      <td>311.9</td>\n",
       "      <td>5.0</td>\n",
       "      <td>...</td>\n",
       "      <td>88.1</td>\n",
       "      <td>177638</td>\n",
       "      <td>28699</td>\n",
       "      <td>130788</td>\n",
       "      <td>18151</td>\n",
       "      <td>33141</td>\n",
       "      <td>22704</td>\n",
       "      <td>365</td>\n",
       "      <td>3662</td>\n",
       "      <td>6410</td>\n",
       "    </tr>\n",
       "    <tr>\n",
       "      <th>239</th>\n",
       "      <td>Arkansas</td>\n",
       "      <td>2019</td>\n",
       "      <td>3017804</td>\n",
       "      <td>2858.0</td>\n",
       "      <td>599.6</td>\n",
       "      <td>2012.6</td>\n",
       "      <td>245.9</td>\n",
       "      <td>584.6</td>\n",
       "      <td>447.8</td>\n",
       "      <td>8.0</td>\n",
       "      <td>...</td>\n",
       "      <td>51.6</td>\n",
       "      <td>86250</td>\n",
       "      <td>18095</td>\n",
       "      <td>60735</td>\n",
       "      <td>7420</td>\n",
       "      <td>17643</td>\n",
       "      <td>13513</td>\n",
       "      <td>242</td>\n",
       "      <td>2331</td>\n",
       "      <td>1557</td>\n",
       "    </tr>\n",
       "    <tr>\n",
       "      <th>299</th>\n",
       "      <td>California</td>\n",
       "      <td>2019</td>\n",
       "      <td>39512223</td>\n",
       "      <td>2331.2</td>\n",
       "      <td>386.1</td>\n",
       "      <td>1586.3</td>\n",
       "      <td>358.8</td>\n",
       "      <td>441.2</td>\n",
       "      <td>267.1</td>\n",
       "      <td>4.3</td>\n",
       "      <td>...</td>\n",
       "      <td>132.4</td>\n",
       "      <td>921114</td>\n",
       "      <td>152555</td>\n",
       "      <td>626802</td>\n",
       "      <td>141757</td>\n",
       "      <td>174331</td>\n",
       "      <td>105541</td>\n",
       "      <td>1690</td>\n",
       "      <td>14799</td>\n",
       "      <td>52301</td>\n",
       "    </tr>\n",
       "  </tbody>\n",
       "</table>\n",
       "<p>5 rows × 21 columns</p>\n",
       "</div>"
      ],
      "text/plain": [
       "          State  Year  Data.Population  Data.Rates.Property.All  \\\n",
       "59      Alabama  2019          4903185                   2674.4   \n",
       "119      Alaska  2019           731545                   2910.8   \n",
       "179     Arizona  2019          7278717                   2440.5   \n",
       "239    Arkansas  2019          3017804                   2858.0   \n",
       "299  California  2019         39512223                   2331.2   \n",
       "\n",
       "     Data.Rates.Property.Burglary  Data.Rates.Property.Larceny  \\\n",
       "59                          531.9                       1886.1   \n",
       "119                         487.1                       2066.0   \n",
       "179                         394.3                       1796.9   \n",
       "239                         599.6                       2012.6   \n",
       "299                         386.1                       1586.3   \n",
       "\n",
       "     Data.Rates.Property.Motor  Data.Rates.Violent.All  \\\n",
       "59                       256.5                   510.8   \n",
       "119                      357.7                   867.1   \n",
       "179                      249.4                   455.3   \n",
       "239                      245.9                   584.6   \n",
       "299                      358.8                   441.2   \n",
       "\n",
       "     Data.Rates.Violent.Assault  Data.Rates.Violent.Murder  ...  \\\n",
       "59                        381.0                        7.3  ...   \n",
       "119                       596.0                        9.4  ...   \n",
       "179                       311.9                        5.0  ...   \n",
       "239                       447.8                        8.0  ...   \n",
       "299                       267.1                        4.3  ...   \n",
       "\n",
       "     Data.Rates.Violent.Robbery  Data.Totals.Property.All  \\\n",
       "59                         80.4                    131133   \n",
       "119                       112.9                     21294   \n",
       "179                        88.1                    177638   \n",
       "239                        51.6                     86250   \n",
       "299                       132.4                    921114   \n",
       "\n",
       "     Data.Totals.Property.Burglary  Data.Totals.Property.Larceny  \\\n",
       "59                           26079                         92477   \n",
       "119                           3563                         15114   \n",
       "179                          28699                        130788   \n",
       "239                          18095                         60735   \n",
       "299                         152555                        626802   \n",
       "\n",
       "     Data.Totals.Property.Motor  Data.Totals.Violent.All  \\\n",
       "59                        12577                    25046   \n",
       "119                        2617                     6343   \n",
       "179                       18151                    33141   \n",
       "239                        7420                    17643   \n",
       "299                      141757                   174331   \n",
       "\n",
       "     Data.Totals.Violent.Assault  Data.Totals.Violent.Murder  \\\n",
       "59                         18679                         358   \n",
       "119                         4360                          69   \n",
       "179                        22704                         365   \n",
       "239                        13513                         242   \n",
       "299                       105541                        1690   \n",
       "\n",
       "     Data.Totals.Violent.Rape  Data.Totals.Violent.Robbery  \n",
       "59                       2068                         3941  \n",
       "119                      1088                          826  \n",
       "179                      3662                         6410  \n",
       "239                      2331                         1557  \n",
       "299                     14799                        52301  \n",
       "\n",
       "[5 rows x 21 columns]"
      ]
     },
     "execution_count": 3,
     "metadata": {},
     "output_type": "execute_result"
    }
   ],
   "source": [
    "#Print unique states\n",
    "states = data[\"State\"].unique()\n",
    "\n",
    "print(\"States include in the analysis\\n\",states)\n",
    "\n",
    "\n",
    "#filtering data to work only tih year 2019\n",
    "\n",
    "new_data = data[(data[\"Year\"]==2019)]\n",
    "\n",
    "print(\"Number of rows and number of columns: ({},{})\\n\".format(new_data.shape[0],new_data.shape[1]))\n",
    "\n",
    "\n",
    "\n",
    "#printing heading new_data frame\n",
    "new_data.head()"
   ]
  },
  {
   "cell_type": "markdown",
   "metadata": {},
   "source": [
    "<center> Computing the mean, trimmed mean, weighted_mean, and median <center>"
   ]
  },
  {
   "cell_type": "code",
   "execution_count": 4,
   "metadata": {},
   "outputs": [
    {
     "name": "stdout",
     "output_type": "stream",
     "text": [
      "The mean for rate of Violent Assault 257.07\n",
      "The trimmed mean of Rates of Violant Assault 241.04\n",
      "The weighted mean of Rates of Violent Assault 250.19\n",
      "The median of Rates of Violent Assault 247.7\n"
     ]
    }
   ],
   "source": [
    "print(\"The mean for rate of Violent Assault {0:.5}\".format(new_data[\"Data.Rates.Violent.Assault\"].mean()))\n",
    "\n",
    "\n",
    "trim_m = sta.trim_mean(new_data[\"Data.Rates.Violent.Assault\"],0.10)\n",
    "print(\"The trimmed mean of Rates of Violant Assault {0:.5}\".format(trim_m))\n",
    "\n",
    "weighted_mean = np.average(new_data[\"Data.Rates.Violent.Assault\"],weights=new_data[\"Data.Population\"])\n",
    "print(\"The weighted mean of Rates of Violent Assault {0:.5}\".format(weighted_mean))\n",
    "\n",
    "median_rva = new_data[\"Data.Rates.Violent.Assault\"].median()\n",
    "print(\"The median of Rates of Violent Assault {0:.5}\".format(median_rva))"
   ]
  },
  {
   "cell_type": "code",
   "execution_count": 5,
   "metadata": {},
   "outputs": [
    {
     "data": {
      "image/png": "[encoded data removed]",
      "text/plain": [
       "<Figure size 576x576 with 1 Axes>"
      ]
     },
     "metadata": {
      "needs_background": "light"
     },
     "output_type": "display_data"
    }
   ],
   "source": [
    "# Visualizing the data\n",
    "new_data.plot(x=\"State\",y=\"Data.Rates.Violent.Assault\",kind='scatter',figsize=(8,8),rot=90, xlabel=\"States\", fontsize=9,)\n",
    "plt.savefig('scatter_plot',dpi=100)"
   ]
  },
  {
   "cell_type": "markdown",
   "metadata": {},
   "source": [
    "<center>Computing measure of variation<center>"
   ]
  },
  {
   "cell_type": "code",
   "execution_count": 9,
   "metadata": {},
   "outputs": [
    {
     "name": "stdout",
     "output_type": "stream",
     "text": [
      "The std of rate violent assault out of the 52 state is 126.93\n",
      "\n",
      "The variance fo rate violent assault of the 52 state is 11.266\n",
      "\n"
     ]
    }
   ],
   "source": [
    "# computing the std and variance\n",
    "from cmath import sqrt\n",
    "\n",
    "std = new_data[\"Data.Rates.Violent.Assault\"].std()\n",
    "print(\"The std of rate violent assault out of the 52 state is {0:.5}\\n\".format(std))\n",
    "\n",
    "print(\"The variance fo rate violent assault of the 52 state is {0:.5}\\n\".format(math.sqrt(std)))"
   ]
  },
  {
   "cell_type": "code",
   "execution_count": 10,
   "metadata": {},
   "outputs": [
    {
     "name": "stdout",
     "output_type": "stream",
     "text": [
      "The IQR of Data Rates Violent Assault is 142.0\n"
     ]
    }
   ],
   "source": [
    "#Understanding the position of our samples using percentiles.\n",
    "\n",
    "IQR = new_data[\"Data.Rates.Violent.Assault\"].quantile(0.75)-new_data[\"Data.Rates.Violent.Assault\"].quantile(0.25)\n",
    "\n",
    "print(\"The IQR of Data Rates Violent Assault is {0:.5}\".format(IQR))"
   ]
  },
  {
   "cell_type": "markdown",
   "metadata": {},
   "source": [
    "<center>Exploring the Data Distribution<center>"
   ]
  },
  {
   "cell_type": "code",
   "execution_count": 11,
   "metadata": {},
   "outputs": [
    {
     "data": {
      "text/plain": [
       "0.05    114.46\n",
       "0.25    166.90\n",
       "0.50    247.70\n",
       "0.75    308.90\n",
       "0.95    517.63\n",
       "Name: Data.Rates.Violent.Assault, dtype: float64"
      ]
     },
     "execution_count": 11,
     "metadata": {},
     "output_type": "execute_result"
    }
   ],
   "source": [
    "# Computing and prinitng quantiles\n",
    "\n",
    "new_data[\"Data.Rates.Violent.Assault\"].quantile([0.05,0.25,0.5,0.75,0.95])"
   ]
  },
  {
   "cell_type": "markdown",
   "metadata": {},
   "source": [
    "<center>Visualizing Data distribution Boxplot<center>"
   ]
  },
  {
   "cell_type": "code",
   "execution_count": 12,
   "metadata": {},
   "outputs": [
    {
     "data": {
      "text/plain": [
       "Text(0, 0.5, 'Data Rate Violent Assault')"
      ]
     },
     "execution_count": 12,
     "metadata": {},
     "output_type": "execute_result"
    },
    {
     "data": {
      "image/png": "[encoded data removed]",
      "text/plain": [
       "<Figure size 432x288 with 1 Axes>"
      ]
     },
     "metadata": {
      "needs_background": "light"
     },
     "output_type": "display_data"
    }
   ],
   "source": [
    "ax = (new_data[[\"Data.Rates.Violent.Assault\"]].plot.box())\n",
    "ax.set_ylabel(\"Data Rate Violent Assault\")"
   ]
  },
  {
   "cell_type": "markdown",
   "metadata": {},
   "source": [
    "<center>Visualizing Data distributioin<center>\n",
    "<center>Frecuency Table and Histogram<center>"
   ]
  },
  {
   "cell_type": "code",
   "execution_count": 17,
   "metadata": {},
   "outputs": [
    {
     "data": {
      "text/html": [
       "<div>\n",
       "<style scoped>\n",
       "    .dataframe tbody tr th:only-of-type {\n",
       "        vertical-align: middle;\n",
       "    }\n",
       "\n",
       "    .dataframe tbody tr th {\n",
       "        vertical-align: top;\n",
       "    }\n",
       "\n",
       "    .dataframe thead th {\n",
       "        text-align: right;\n",
       "    }\n",
       "</style>\n",
       "<table border=\"1\" class=\"dataframe\">\n",
       "  <thead>\n",
       "    <tr style=\"text-align: right;\">\n",
       "      <th></th>\n",
       "      <th>Data.Rates.Violent.Assault</th>\n",
       "    </tr>\n",
       "  </thead>\n",
       "  <tbody>\n",
       "    <tr>\n",
       "      <th>(120.22, 179.14]</th>\n",
       "      <td>11</td>\n",
       "    </tr>\n",
       "    <tr>\n",
       "      <th>(238.06, 296.98]</th>\n",
       "      <td>11</td>\n",
       "    </tr>\n",
       "    <tr>\n",
       "      <th>(179.14, 238.06]</th>\n",
       "      <td>10</td>\n",
       "    </tr>\n",
       "    <tr>\n",
       "      <th>(296.98, 355.9]</th>\n",
       "      <td>8</td>\n",
       "    </tr>\n",
       "    <tr>\n",
       "      <th>(355.9, 414.82]</th>\n",
       "      <td>4</td>\n",
       "    </tr>\n",
       "    <tr>\n",
       "      <th>(60.711, 120.22]</th>\n",
       "      <td>3</td>\n",
       "    </tr>\n",
       "    <tr>\n",
       "      <th>(591.58, 650.5]</th>\n",
       "      <td>3</td>\n",
       "    </tr>\n",
       "    <tr>\n",
       "      <th>(414.82, 473.74]</th>\n",
       "      <td>2</td>\n",
       "    </tr>\n",
       "    <tr>\n",
       "      <th>(473.74, 532.66]</th>\n",
       "      <td>0</td>\n",
       "    </tr>\n",
       "    <tr>\n",
       "      <th>(532.66, 591.58]</th>\n",
       "      <td>0</td>\n",
       "    </tr>\n",
       "  </tbody>\n",
       "</table>\n",
       "</div>"
      ],
      "text/plain": [
       "                  Data.Rates.Violent.Assault\n",
       "(120.22, 179.14]                          11\n",
       "(238.06, 296.98]                          11\n",
       "(179.14, 238.06]                          10\n",
       "(296.98, 355.9]                            8\n",
       "(355.9, 414.82]                            4\n",
       "(60.711, 120.22]                           3\n",
       "(591.58, 650.5]                            3\n",
       "(414.82, 473.74]                           2\n",
       "(473.74, 532.66]                           0\n",
       "(532.66, 591.58]                           0"
      ]
     },
     "execution_count": 17,
     "metadata": {},
     "output_type": "execute_result"
    }
   ],
   "source": [
    "\n",
    "binnedAssault = pd.cut(new_data[\"Data.Rates.Violent.Assault\"],10)\n",
    "result = binnedAssault.value_counts().to_frame()\n",
    "result.head(10)\n"
   ]
  },
  {
   "cell_type": "code",
   "execution_count": 21,
   "metadata": {},
   "outputs": [
    {
     "name": "stdout",
     "output_type": "stream",
     "text": [
      "385.36\n"
     ]
    },
    {
     "data": {
      "text/plain": [
       "[Text(0.5, 1.0, 'Frequency Histogram'), Text(0, 0.5, 'Frequency')]"
      ]
     },
     "execution_count": 21,
     "metadata": {},
     "output_type": "execute_result"
    },
    {
     "data": {
      "image/png": "[encoded data removed]",
      "text/plain": [
       "<Figure size 288x288 with 1 Axes>"
      ]
     },
     "metadata": {
      "needs_background": "light"
     },
     "output_type": "display_data"
    }
   ],
   "source": [
    "\n",
    "from matplotlib.pyplot import xticks, ylabel\n",
    "\n",
    "\n",
    "print(binnedAssault.iloc[0].mid)\n",
    "xticks_label = ['(60.711, 120.22]','(120.22, 179.14]','(179.14, 238.06]','(238.06, 296.98]','(296.98, 355.9]','(355.9, 414.82]','(414.82, 473.74]','(473.74, 532.66]','(532.66, 591.58]','(591.58,650.5]']\n",
    "xticks = [120.22,179.14,238.06,298.98,355.9,414.82,473.74,532.66,591.58,650.5]\n",
    "\n",
    "fig = new_data[\"Data.Rates.Violent.Assault\"].plot.hist(figsize=(4,4),rot=90,edgecolor='black')\n",
    "fig.set_xticks(ticks=xticks)\n",
    "fig.set_xticklabels(xticks_label)\n",
    "plt.gca().set(title='Frequency Histogram', ylabel='Frequency')\n",
    "\n"
   ]
  },
  {
   "cell_type": "code",
   "execution_count": 23,
   "metadata": {},
   "outputs": [
    {
     "data": {
      "text/plain": [
       "Text(0.5, 0, 'Data Rates Violent Assault')"
      ]
     },
     "execution_count": 23,
     "metadata": {},
     "output_type": "execute_result"
    },
    {
     "data": {
      "image/png": "[encoded data removed]",
      "text/plain": [
       "<Figure size 432x288 with 1 Axes>"
      ]
     },
     "metadata": {
      "needs_background": "light"
     },
     "output_type": "display_data"
    }
   ],
   "source": [
    "ax = new_data[\"Data.Rates.Violent.Assault\"].plot.hist(density=True, color= 'yellow', edgecolor= 'black')\n",
    "new_data[\"Data.Rates.Violent.Assault\"].plot.density(ax=ax)\n",
    "ax.set_xlabel('Data Rates Violent Assault')"
   ]
  },
  {
   "cell_type": "code",
   "execution_count": 29,
   "metadata": {},
   "outputs": [
    {
     "name": "stderr",
     "output_type": "stream",
     "text": [
      "/Users/carlos-theran/miniforge3/lib/python3.9/site-packages/seaborn/distributions.py:2619: FutureWarning: `distplot` is a deprecated function and will be removed in a future version. Please adapt your code to use either `displot` (a figure-level function with similar flexibility) or `histplot` (an axes-level function for histograms).\n",
      "  warnings.warn(msg, FutureWarning)\n"
     ]
    },
    {
     "data": {
      "text/plain": [
       "<AxesSubplot:xlabel='Data.Rates.Violent.Assault', ylabel='Density'>"
      ]
     },
     "execution_count": 29,
     "metadata": {},
     "output_type": "execute_result"
    },
    {
     "data": {
      "image/png": "[encoded data removed]",
      "text/plain": [
       "<Figure size 432x288 with 1 Axes>"
      ]
     },
     "metadata": {
      "needs_background": "light"
     },
     "output_type": "display_data"
    }
   ],
   "source": [
    "import seaborn as sns\n",
    "\n",
    "sns.distplot(new_data[\"Data.Rates.Violent.Assault\"], hist=True, kde= True, color= 'darkblue', hist_kws={'edgecolor':'black'},kde_kws={'linewidth':4})"
   ]
  },
  {
   "cell_type": "code",
   "execution_count": 31,
   "metadata": {},
   "outputs": [
    {
     "name": "stderr",
     "output_type": "stream",
     "text": [
      "/Users/carlos-theran/miniforge3/lib/python3.9/site-packages/seaborn/distributions.py:2619: FutureWarning: `distplot` is a deprecated function and will be removed in a future version. Please adapt your code to use either `displot` (a figure-level function with similar flexibility) or `kdeplot` (an axes-level function for kernel density plots).\n",
      "  warnings.warn(msg, FutureWarning)\n"
     ]
    },
    {
     "data": {
      "text/plain": [
       "<AxesSubplot:xlabel='Data.Rates.Violent.Assault', ylabel='Density'>"
      ]
     },
     "execution_count": 31,
     "metadata": {},
     "output_type": "execute_result"
    },
    {
     "data": {
      "image/png": "[encoded data removed]",
      "text/plain": [
       "<Figure size 432x288 with 1 Axes>"
      ]
     },
     "metadata": {
      "needs_background": "light"
     },
     "output_type": "display_data"
    }
   ],
   "source": [
    "sns.distplot(new_data[\"Data.Rates.Violent.Assault\"], hist= False, kde_kws={'shade':True, 'linewidth':3})"
   ]
  }
 ],
 "metadata": {
  "kernelspec": {
   "display_name": "Python 3.9.7 ('base')",
   "language": "python",
   "name": "python3"
  },
  "language_info": {
   "codemirror_mode": {
    "name": "ipython",
    "version": 3
   },
   "file_extension": ".py",
   "mimetype": "text/x-python",
   "name": "python",
   "nbconvert_exporter": "python",
   "pygments_lexer": "ipython3",
   "version": "3.9.7"
  },
  "orig_nbformat": 4,
  "vscode": {
   "interpreter": {
    "hash": "48537609f0491a4e374724a8864aed50b564b0806a9c311cacb509fc89655065"
   }
  }
 },
 "nbformat": 4,
 "nbformat_minor": 2
}
