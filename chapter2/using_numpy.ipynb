{
 "cells": [
  {
   "cell_type": "markdown",
   "metadata": {},
   "source": [
    "# Numpy [Documentation](http://numpy.org/doc/g)"
   ]
  },
  {
   "cell_type": "code",
   "execution_count": 2,
   "metadata": {},
   "outputs": [],
   "source": [
    "import numpy as np\n",
    "import matplotlib.pyplot as plt"
   ]
  },
  {
   "cell_type": "code",
   "execution_count": 19,
   "metadata": {},
   "outputs": [
    {
     "name": "stdout",
     "output_type": "stream",
     "text": [
      "Array dimention:  (4,)\n",
      "number of elements in the array:  4\n",
      "Array dimention:  (3, 4)\n",
      "number of elements in the array:  12\n"
     ]
    }
   ],
   "source": [
    "a = np.array([1,2,3,4]) # 1-D array\n",
    "print(\"Array dimention: \",a.shape)\n",
    "print(\"number of elements in the array: \",a.size)\n",
    "\n",
    "b = np.array([[3,4,5,3],[7,1,2,9],[10,2,3,7]]) # 2-D array\n",
    "print(\"Array dimention: \",b.shape)\n",
    "print(\"number of elements in the array: \",b.size)"
   ]
  },
  {
   "cell_type": "code",
   "execution_count": 9,
   "metadata": {},
   "outputs": [
    {
     "name": "stdout",
     "output_type": "stream",
     "text": [
      "[[0. 0. 0. 0.]\n",
      " [0. 0. 0. 0.]\n",
      " [0. 0. 0. 0.]]\n",
      "[[1. 1. 1. 1.]\n",
      " [1. 1. 1. 1.]\n",
      " [1. 1. 1. 1.]]\n",
      "[[1. 0. 0. 0.]\n",
      " [0. 1. 0. 0.]\n",
      " [0. 0. 1. 0.]\n",
      " [0. 0. 0. 1.]]\n"
     ]
    }
   ],
   "source": [
    "# initializating np array\n",
    "c = np.zeros((3,4))\n",
    "print(c)\n",
    "\n",
    "d = np.ones((3,4))\n",
    "print(d)\n",
    "\n",
    "e = np.eye(4)\n",
    "print(e)"
   ]
  },
  {
   "cell_type": "code",
   "execution_count": 11,
   "metadata": {},
   "outputs": [
    {
     "name": "stdout",
     "output_type": "stream",
     "text": [
      "Array:\n",
      " [[ 3  4  5  3]\n",
      " [ 7  1  2  9]\n",
      " [10  2  3  7]]\n",
      "elment: b[1,2]=4\n"
     ]
    }
   ],
   "source": [
    "#Accessing arrays elements\n",
    "print(\"Array:\\n\", b)\n",
    "print(\"elment: b[{},{}]={}\".format(1,2,b[0,1]))"
   ]
  },
  {
   "cell_type": "code",
   "execution_count": 15,
   "metadata": {},
   "outputs": [
    {
     "name": "stdout",
     "output_type": "stream",
     "text": [
      "Original matrix: \n",
      " [[ 3  4  5  3]\n",
      " [ 7  1  2  9]\n",
      " [10  2  3  7]]\n",
      "deletening the second row: \n",
      " [[ 3  4  5  3]\n",
      " [10  2  3  7]]\n",
      "deletening the second column: \n",
      " [[ 3  5  3]\n",
      " [ 7  2  9]\n",
      " [10  3  7]]\n"
     ]
    }
   ],
   "source": [
    "#Deleting an element im an Array\n",
    "print(\"Original matrix: \\n\",b)\n",
    "d = np.delete(b,1,0) \n",
    "f = np.delete(b,1,1)\n",
    "print(\"deletening the second row: \\n\",d)\n",
    "print(\"deletening the second column: \\n\",f)"
   ]
  },
  {
   "cell_type": "code",
   "execution_count": 20,
   "metadata": {},
   "outputs": [
    {
     "name": "stdout",
     "output_type": "stream",
     "text": [
      "[[ 2  4  5  6]\n",
      " [ 7  1  2  9]\n",
      " [10  2  3  7]]\n"
     ]
    }
   ],
   "source": [
    "b[0,:]=[2,4,5,6]\n",
    "print(b)"
   ]
  },
  {
   "cell_type": "code",
   "execution_count": 22,
   "metadata": {},
   "outputs": [
    {
     "name": "stdout",
     "output_type": "stream",
     "text": [
      "[ 2  4  5  6  7  1  2  9 10  2  3  7]\n"
     ]
    }
   ],
   "source": [
    "# Convert 2-D array into 1-D array\n",
    "t = np.ndarray.flatten(b)\n",
    "print(t)\n"
   ]
  },
  {
   "cell_type": "code",
   "execution_count": 30,
   "metadata": {},
   "outputs": [
    {
     "name": "stdout",
     "output_type": "stream",
     "text": [
      "verify b[0,0] = 2 ----> False\n"
     ]
    }
   ],
   "source": [
    "# finding values given a condition\n",
    "print(\"verify b[{},{}] = {} ----> {}\".format(0,0,b[0,0],(b[0,0]>5)))"
   ]
  },
  {
   "cell_type": "code",
   "execution_count": 35,
   "metadata": {},
   "outputs": [
    {
     "data": {
      "image/png": "[encoded data removed]",
      "text/plain": [
       "<Figure size 432x288 with 1 Axes>"
      ]
     },
     "metadata": {
      "needs_background": "light"
     },
     "output_type": "display_data"
    }
   ],
   "source": [
    "plt.plot([1,2,3,4],[1,4,9,16],'b*')\n",
    "plt.axis([0,6,0,20])\n",
    "plt.show()"
   ]
  },
  {
   "cell_type": "code",
   "execution_count": 38,
   "metadata": {},
   "outputs": [
    {
     "data": {
      "image/png": "[encoded data removed]",
      "text/plain": [
       "<Figure size 432x288 with 1 Axes>"
      ]
     },
     "metadata": {
      "needs_background": "light"
     },
     "output_type": "display_data"
    }
   ],
   "source": [
    "#creating an array with values from 0 to 5 using 0.2 as step\n",
    "t = np.arange(0.,5.,0.2) \n",
    "\n",
    "#plotting three different functions in one figure. (t,t,'r-'), (t,t**2,'bs'), (t,t**3,'g^') \n",
    "plt.plot(t,t,'r-',t,t**2,'bs',t,t**3,'g^')\n",
    "plt.show()"
   ]
  }
 ],
 "metadata": {
  "kernelspec": {
   "display_name": "Python 3.9.7 ('base')",
   "language": "python",
   "name": "python3"
  },
  "language_info": {
   "codemirror_mode": {
    "name": "ipython",
    "version": 3
   },
   "file_extension": ".py",
   "mimetype": "text/x-python",
   "name": "python",
   "nbconvert_exporter": "python",
   "pygments_lexer": "ipython3",
   "version": "3.9.7"
  },
  "orig_nbformat": 4,
  "vscode": {
   "interpreter": {
    "hash": "48537609f0491a4e374724a8864aed50b564b0806a9c311cacb509fc89655065"
   }
  }
 },
 "nbformat": 4,
 "nbformat_minor": 2
}
