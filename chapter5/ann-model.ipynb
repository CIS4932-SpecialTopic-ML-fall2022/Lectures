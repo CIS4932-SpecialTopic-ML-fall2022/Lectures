{
 "cells": [
  {
   "cell_type": "code",
   "execution_count": 1,
   "metadata": {},
   "outputs": [],
   "source": [
    "import numpy as np\n",
    "import matplotlib.pyplot as plt\n",
    "from sklearn import datasets, metrics\n",
    "from sklearn.model_selection import train_test_split\n",
    "from sklearn.neural_network import MLPClassifier"
   ]
  },
  {
   "cell_type": "code",
   "execution_count": 2,
   "metadata": {},
   "outputs": [
    {
     "name": "stdout",
     "output_type": "stream",
     "text": [
      "The number of samples in digits dataset is 1797, the dimenrtion of each images is 8x8\n"
     ]
    }
   ],
   "source": [
    "# the digits dataset of 8x8 pixels image of digit\n",
    "digits = datasets.load_digits()\n",
    "dimention = digits.images[0].shape\n",
    "n_samples=len(digits.images)\n",
    "print(\"The number of samples in digits dataset is {0:d}, the dimenrtion of each images is {1:d}x{1:d}\".format(n_samples,dimention[0]))"
   ]
  },
  {
   "cell_type": "code",
   "execution_count": 3,
   "metadata": {},
   "outputs": [],
   "source": [
    "# reshape the images into a vetor Nx1\n",
    "\n",
    "data = digits.images.reshape((n_samples,-1))\n",
    "x_train, x_test, y_train, y_test = train_test_split(data, digits.target, test_size=0.20, random_state=42)"
   ]
  }
 ],
 "metadata": {
  "kernelspec": {
   "display_name": "Python 3.9.7 ('base')",
   "language": "python",
   "name": "python3"
  },
  "language_info": {
   "codemirror_mode": {
    "name": "ipython",
    "version": 3
   },
   "file_extension": ".py",
   "mimetype": "text/x-python",
   "name": "python",
   "nbconvert_exporter": "python",
   "pygments_lexer": "ipython3",
   "version": "3.9.7"
  },
  "orig_nbformat": 4,
  "vscode": {
   "interpreter": {
    "hash": "48537609f0491a4e374724a8864aed50b564b0806a9c311cacb509fc89655065"
   }
  }
 },
 "nbformat": 4,
 "nbformat_minor": 2
}
