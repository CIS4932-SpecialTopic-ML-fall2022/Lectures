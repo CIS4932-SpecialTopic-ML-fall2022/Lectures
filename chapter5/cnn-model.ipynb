{
 "cells": [
  {
   "cell_type": "markdown",
   "metadata": {},
   "source": [
    "<center>Using Convolutional Neural Network for classification problem<center>"
   ]
  },
  {
   "cell_type": "code",
   "execution_count": 1,
   "metadata": {},
   "outputs": [],
   "source": [
    "import matplotlib.pyplot as plt\n",
    "import numpy as np\n",
    "from keras.datasets import fashion_mnist\n",
    "from tensorflow.keras.utils import to_categorical\n",
    "from sklearn import preprocessing\n",
    "from sklearn.model_selection import train_test_split"
   ]
  },
  {
   "cell_type": "code",
   "execution_count": 5,
   "metadata": {},
   "outputs": [
    {
     "name": "stdout",
     "output_type": "stream",
     "text": [
      "This dataset has 10 classes\n"
     ]
    }
   ],
   "source": [
    "# dataset's information https://www.tensorflow.org/api_docs/python/tf/keras/datasets/fashion_mnist/load_data\n",
    "(x_train, y_train), (x_test,y_test) = fashion_mnist.load_data()\n",
    "\n",
    "# Finding number of classes\n",
    "classes = np.unique(y_train)\n",
    "nClasses = len(classes)\n",
    "print(\"This dataset has {0:d} classes\".format(nClasses))\n",
    "\n",
    "\n",
    "#Defining a dictionary for laebl name\n",
    "y_name = {0:\"T-shirt\", 1:\"Trouser\", 2:\"Pullover\", 3:\"Dress\", 4:\"Coat\", 5:\"Sandal\", 6:\"Shirt\", 7:\"Sneaker\", 8:\"Bag\", 9:\"Ankle Boot\"}"
   ]
  },
  {
   "cell_type": "code",
   "execution_count": 6,
   "metadata": {},
   "outputs": [
    {
     "name": "stdout",
     "output_type": "stream",
     "text": [
      "The dimension of each image is 28x28, the training dataset has 60000 sample and testing dataset has 10000 samples\n"
     ]
    }
   ],
   "source": [
    "n_train_samples =  len(x_train)\n",
    "n_test_samples = len(x_test)\n",
    "dimension_image = x_train[0].shape\n",
    "print(\"The dimension of each image is {0:d}x{1:d}, the training dataset has {2:d} sample and testing dataset has {3:d} samples\".format(dimension_image[0],dimension_image[1],n_train_samples,n_test_samples))"
   ]
  },
  {
   "cell_type": "code",
   "execution_count": 7,
   "metadata": {},
   "outputs": [
    {
     "data": {
      "image/png": "[encoded data removed]",
      "text/plain": [
       "<Figure size 720x720 with 3 Axes>"
      ]
     },
     "metadata": {
      "needs_background": "light"
     },
     "output_type": "display_data"
    }
   ],
   "source": [
    "# Showing the first image\n",
    "_, fig = plt.subplots(nrows=1, ncols=3, figsize=(10,10))\n",
    "for ax, image, label in zip(fig, x_train, y_train):\n",
    "    ax.set_axis_off()\n",
    "    ax.imshow(image, cmap=plt.cm.gray_r)\n",
    "    ax.set_title('Training: %s' % y_name[label])"
   ]
  },
  {
   "cell_type": "code",
   "execution_count": 8,
   "metadata": {},
   "outputs": [
    {
     "name": "stdout",
     "output_type": "stream",
     "text": [
      "New data shape: (samples, width, hight, channel)=  (60000, 28, 28, 1)\n"
     ]
    }
   ],
   "source": [
    "# To use a CNN model the imput's format must be (widht x hight X channels)\n",
    "x_train_reshape = x_train.reshape((-1,28,28,1))\n",
    "x_test_reshape = x_test.reshape((-1,28,28,1))\n",
    "\n",
    "print(\"New data shape: (samples, width, hight, channel)= \", x_train_reshape.shape)"
   ]
  },
  {
   "cell_type": "code",
   "execution_count": 9,
   "metadata": {},
   "outputs": [],
   "source": [
    "# changing format from int8 to float32 (best numerical precision) and normalizing the data\n",
    "x_train_reshape = x_train_reshape.astype('float32')\n",
    "x_test_reshape = x_test_reshape.astype('float32')\n",
    "train_x = x_train_reshape / 255\n",
    "test_x = x_test_reshape / 255"
   ]
  },
  {
   "cell_type": "code",
   "execution_count": 10,
   "metadata": {},
   "outputs": [],
   "source": [
    "# tranform you laebels values into a categorical format or best known as one_hot encoding.\n",
    "y_train_one_hot = to_categorical(y_train)\n",
    "y_test_one_hot = to_categorical(y_test)\n",
    "\n",
    "#Use the train_set_split function to crear validation training set from train dataset.\n",
    "x_train_data, x_validation_data, y_train_data, y_validation_data = train_test_split(x_train_reshape,y_train_one_hot, test_size=0.20, shuffle=False) "
   ]
  },
  {
   "cell_type": "code",
   "execution_count": 11,
   "metadata": {},
   "outputs": [],
   "source": [
    "# Importing the required layers operation and activation function to build your model\n",
    "from keras.models import Sequential,Input,Model\n",
    "from keras.layers import Dense, Dropout, Flatten\n",
    "from keras.layers import Conv2D, MaxPooling2D\n",
    "from keras.layers.advanced_activations import LeakyReLU"
   ]
  },
  {
   "cell_type": "code",
   "execution_count": 12,
   "metadata": {},
   "outputs": [],
   "source": [
    "# Definig hyperparameters\n",
    "batch_size = 32\n",
    "epochs = 15\n",
    "num_classes = 10"
   ]
  },
  {
   "cell_type": "code",
   "execution_count": 13,
   "metadata": {},
   "outputs": [
    {
     "name": "stderr",
     "output_type": "stream",
     "text": [
      "2022-11-22 13:11:35.412115: I tensorflow/core/common_runtime/pluggable_device/pluggable_device_factory.cc:305] Could not identify NUMA node of platform GPU ID 0, defaulting to 0. Your kernel may not have been built with NUMA support.\n",
      "2022-11-22 13:11:35.412287: I tensorflow/core/common_runtime/pluggable_device/pluggable_device_factory.cc:271] Created TensorFlow device (/job:localhost/replica:0/task:0/device:GPU:0 with 0 MB memory) -> physical PluggableDevice (device: 0, name: METAL, pci bus id: <undefined>)\n"
     ]
    },
    {
     "name": "stdout",
     "output_type": "stream",
     "text": [
      "Metal device set to: Apple M1 Pro\n",
      "\n",
      "systemMemory: 32.00 GB\n",
      "maxCacheSize: 10.67 GB\n",
      "\n"
     ]
    }
   ],
   "source": [
    "# Buidling your CNN model\n",
    "fashion_model = Sequential()\n",
    "fashion_model.add(Conv2D(32, kernel_size=(3, 3),activation='linear',input_shape=(28,28,1),padding='same'))\n",
    "fashion_model.add(LeakyReLU(alpha=0.1))\n",
    "fashion_model.add(MaxPooling2D((2, 2),padding='same'))\n",
    "fashion_model.add(Conv2D(64, (3, 3), activation='linear',padding='same'))\n",
    "fashion_model.add(LeakyReLU(alpha=0.1))\n",
    "fashion_model.add(MaxPooling2D(pool_size=(2, 2),padding='same'))\n",
    "fashion_model.add(Conv2D(128, (3, 3), activation='linear',padding='same'))\n",
    "fashion_model.add(LeakyReLU(alpha=0.1))                  \n",
    "fashion_model.add(MaxPooling2D(pool_size=(2, 2),padding='same'))\n",
    "fashion_model.add(Flatten())\n",
    "fashion_model.add(Dense(128, activation='linear'))\n",
    "fashion_model.add(LeakyReLU(alpha=0.1))                  \n",
    "fashion_model.add(Dense(num_classes, activation='softmax')) "
   ]
  },
  {
   "cell_type": "code",
   "execution_count": 14,
   "metadata": {},
   "outputs": [],
   "source": [
    "# Compiling your model\n",
    "fashion_model.compile(loss='binary_crossentropy', optimizer='adam',metrics=['accuracy'])"
   ]
  },
  {
   "cell_type": "code",
   "execution_count": 15,
   "metadata": {},
   "outputs": [
    {
     "name": "stdout",
     "output_type": "stream",
     "text": [
      "Model: \"sequential\"\n",
      "_________________________________________________________________\n",
      " Layer (type)                Output Shape              Param #   \n",
      "=================================================================\n",
      " conv2d (Conv2D)             (None, 28, 28, 32)        320       \n",
      "                                                                 \n",
      " leaky_re_lu (LeakyReLU)     (None, 28, 28, 32)        0         \n",
      "                                                                 \n",
      " max_pooling2d (MaxPooling2D  (None, 14, 14, 32)       0         \n",
      " )                                                               \n",
      "                                                                 \n",
      " conv2d_1 (Conv2D)           (None, 14, 14, 64)        18496     \n",
      "                                                                 \n",
      " leaky_re_lu_1 (LeakyReLU)   (None, 14, 14, 64)        0         \n",
      "                                                                 \n",
      " max_pooling2d_1 (MaxPooling  (None, 7, 7, 64)         0         \n",
      " 2D)                                                             \n",
      "                                                                 \n",
      " conv2d_2 (Conv2D)           (None, 7, 7, 128)         73856     \n",
      "                                                                 \n",
      " leaky_re_lu_2 (LeakyReLU)   (None, 7, 7, 128)         0         \n",
      "                                                                 \n",
      " max_pooling2d_2 (MaxPooling  (None, 4, 4, 128)        0         \n",
      " 2D)                                                             \n",
      "                                                                 \n",
      " flatten (Flatten)           (None, 2048)              0         \n",
      "                                                                 \n",
      " dense (Dense)               (None, 128)               262272    \n",
      "                                                                 \n",
      " leaky_re_lu_3 (LeakyReLU)   (None, 128)               0         \n",
      "                                                                 \n",
      " dense_1 (Dense)             (None, 10)                1290      \n",
      "                                                                 \n",
      "=================================================================\n",
      "Total params: 356,234\n",
      "Trainable params: 356,234\n",
      "Non-trainable params: 0\n",
      "_________________________________________________________________\n"
     ]
    }
   ],
   "source": [
    "# Verify the outpur shape for each layer and the number of trainable parameters.\n",
    "fashion_model.summary()"
   ]
  },
  {
   "cell_type": "code",
   "execution_count": 16,
   "metadata": {},
   "outputs": [
    {
     "name": "stderr",
     "output_type": "stream",
     "text": [
      "2022-11-22 13:15:12.787208: W tensorflow/core/platform/profile_utils/cpu_utils.cc:128] Failed to get CPU frequency: 0 Hz\n"
     ]
    },
    {
     "name": "stdout",
     "output_type": "stream",
     "text": [
      "Epoch 1/15\n"
     ]
    },
    {
     "name": "stderr",
     "output_type": "stream",
     "text": [
      "2022-11-22 13:15:13.072038: I tensorflow/core/grappler/optimizers/custom_graph_optimizer_registry.cc:112] Plugin optimizer for device_type GPU is enabled.\n"
     ]
    },
    {
     "name": "stdout",
     "output_type": "stream",
     "text": [
      "1497/1500 [============================>.] - ETA: 0s - loss: 0.0927 - accuracy: 0.8481"
     ]
    },
    {
     "name": "stderr",
     "output_type": "stream",
     "text": [
      "2022-11-22 13:15:30.998240: I tensorflow/core/grappler/optimizers/custom_graph_optimizer_registry.cc:112] Plugin optimizer for device_type GPU is enabled.\n"
     ]
    },
    {
     "name": "stdout",
     "output_type": "stream",
     "text": [
      "1500/1500 [==============================] - 20s 11ms/step - loss: 0.0926 - accuracy: 0.8481 - val_loss: 0.0598 - val_accuracy: 0.8837\n",
      "Epoch 2/15\n",
      "1500/1500 [==============================] - 16s 11ms/step - loss: 0.0551 - accuracy: 0.8936 - val_loss: 0.0530 - val_accuracy: 0.8967\n",
      "Epoch 3/15\n",
      "1500/1500 [==============================] - 16s 11ms/step - loss: 0.0479 - accuracy: 0.9058 - val_loss: 0.0519 - val_accuracy: 0.8978\n",
      "Epoch 4/15\n",
      "1500/1500 [==============================] - 16s 11ms/step - loss: 0.0435 - accuracy: 0.9146 - val_loss: 0.0499 - val_accuracy: 0.9032\n",
      "Epoch 5/15\n",
      "1500/1500 [==============================] - 16s 11ms/step - loss: 0.0403 - accuracy: 0.9216 - val_loss: 0.0491 - val_accuracy: 0.9072\n",
      "Epoch 6/15\n",
      "1500/1500 [==============================] - 16s 11ms/step - loss: 0.0368 - accuracy: 0.9294 - val_loss: 0.0535 - val_accuracy: 0.9086\n",
      "Epoch 7/15\n",
      "1500/1500 [==============================] - 17s 11ms/step - loss: 0.0344 - accuracy: 0.9348 - val_loss: 0.0522 - val_accuracy: 0.9077\n",
      "Epoch 8/15\n",
      "1500/1500 [==============================] - 16s 11ms/step - loss: 0.0320 - accuracy: 0.9405 - val_loss: 0.0540 - val_accuracy: 0.9057\n",
      "Epoch 9/15\n",
      "1500/1500 [==============================] - 16s 11ms/step - loss: 0.0299 - accuracy: 0.9444 - val_loss: 0.0546 - val_accuracy: 0.9118\n",
      "Epoch 10/15\n",
      "1500/1500 [==============================] - 16s 11ms/step - loss: 0.0271 - accuracy: 0.9497 - val_loss: 0.0504 - val_accuracy: 0.9147\n",
      "Epoch 11/15\n",
      "1500/1500 [==============================] - 16s 11ms/step - loss: 0.0257 - accuracy: 0.9544 - val_loss: 0.0629 - val_accuracy: 0.9088\n",
      "Epoch 12/15\n",
      "1500/1500 [==============================] - 16s 11ms/step - loss: 0.0240 - accuracy: 0.9574 - val_loss: 0.0604 - val_accuracy: 0.9109\n",
      "Epoch 13/15\n",
      "1500/1500 [==============================] - 16s 11ms/step - loss: 0.0227 - accuracy: 0.9605 - val_loss: 0.0637 - val_accuracy: 0.9134\n",
      "Epoch 14/15\n",
      "1500/1500 [==============================] - 21s 14ms/step - loss: 0.0208 - accuracy: 0.9644 - val_loss: 0.0657 - val_accuracy: 0.9096\n",
      "Epoch 15/15\n",
      "1500/1500 [==============================] - 16s 11ms/step - loss: 0.0198 - accuracy: 0.9661 - val_loss: 0.0689 - val_accuracy: 0.9137\n"
     ]
    }
   ],
   "source": [
    "# Train your model\n",
    "fashion_trained_history = fashion_model.fit(x_train_data, y_train_data, batch_size=batch_size,epochs=epochs,verbose=1,validation_data=(x_validation_data, y_validation_data))"
   ]
  },
  {
   "cell_type": "code",
   "execution_count": 17,
   "metadata": {},
   "outputs": [
    {
     "name": "stdout",
     "output_type": "stream",
     "text": [
      "  9/313 [..............................] - ETA: 2s - loss: 0.0544 - accuracy: 0.9167 "
     ]
    },
    {
     "name": "stderr",
     "output_type": "stream",
     "text": [
      "2022-11-22 13:20:26.366786: I tensorflow/core/grappler/optimizers/custom_graph_optimizer_registry.cc:112] Plugin optimizer for device_type GPU is enabled.\n"
     ]
    },
    {
     "name": "stdout",
     "output_type": "stream",
     "text": [
      "313/313 [==============================] - 3s 8ms/step - loss: 0.0778 - accuracy: 0.9088\n",
      "The loss of the model is 0.077794, and the accurracy is 0.908800\n"
     ]
    }
   ],
   "source": [
    "# Evaluating the performance of the model usign the validation data\n",
    "test_eval = fashion_model.evaluate(x_test_reshape, y_test_one_hot, verbose=1)\n",
    "print(\"The loss of the model is {0:f}, and the accurracy is {1:f}\".format(test_eval[0],test_eval[1]))"
   ]
  },
  {
   "cell_type": "code",
   "execution_count": 18,
   "metadata": {},
   "outputs": [],
   "source": [
    "# using fashion_trained_history information to provide the performance of the model during the training stage\n",
    "accuracy = fashion_trained_history.history['accuracy']\n",
    "val_accuracy = fashion_trained_history.history['val_accuracy']\n",
    "loss = fashion_trained_history.history['loss']\n",
    "val_loss = fashion_trained_history.history['val_loss']\n",
    "epochs = range(len(accuracy))"
   ]
  },
  {
   "cell_type": "code",
   "execution_count": 19,
   "metadata": {},
   "outputs": [
    {
     "data": {
      "image/png": "[encoded data removed]",
      "text/plain": [
       "<Figure size 432x288 with 1 Axes>"
      ]
     },
     "metadata": {
      "needs_background": "light"
     },
     "output_type": "display_data"
    },
    {
     "data": {
      "image/png": "[encoded data removed]",
      "text/plain": [
       "<Figure size 432x288 with 1 Axes>"
      ]
     },
     "metadata": {
      "needs_background": "light"
     },
     "output_type": "display_data"
    }
   ],
   "source": [
    "plt.plot(epochs, accuracy, 'bo', label='Training accuracy')\n",
    "plt.plot(epochs, val_accuracy, 'b', label='Validation accuracy')\n",
    "plt.title('Training and validation accuracy')\n",
    "plt.legend()\n",
    "plt.figure()\n",
    "plt.plot(epochs, loss, 'bo', label='Training loss')\n",
    "plt.plot(epochs, val_loss, 'b', label='Validation loss')\n",
    "plt.title('Training and validation loss')\n",
    "plt.legend()\n",
    "plt.show()"
   ]
  },
  {
   "cell_type": "code",
   "execution_count": 22,
   "metadata": {},
   "outputs": [
    {
     "name": "stdout",
     "output_type": "stream",
     "text": [
      "size of predicted array (10000x10)\n",
      "Posteriory Probabilities:  [[5.3369750e-15 6.0556014e-27 3.6383261e-20 ... 2.2194071e-18\n",
      "  1.3832150e-33 1.0000000e+00]\n",
      " [7.1699843e-22 1.3092713e-37 1.0000000e+00 ... 9.6713893e-23\n",
      "  8.2674876e-28 8.2213273e-27]\n",
      " [0.0000000e+00 1.0000000e+00 0.0000000e+00 ... 0.0000000e+00\n",
      "  0.0000000e+00 0.0000000e+00]\n",
      " ...\n",
      " [0.0000000e+00 0.0000000e+00 0.0000000e+00 ... 0.0000000e+00\n",
      "  1.0000000e+00 0.0000000e+00]\n",
      " [1.5416709e-34 1.0000000e+00 1.8495850e-32 ... 1.2422753e-35\n",
      "  0.0000000e+00 0.0000000e+00]\n",
      " [1.7745519e-05 2.6824104e-10 4.0154373e-05 ... 8.2154226e-01\n",
      "  7.2998155e-06 4.1364810e-06]]\n"
     ]
    }
   ],
   "source": [
    "# Predicting the new data \"test_X, y_test\"\n",
    "predicted = fashion_model.predict(x_test_reshape)\n",
    "\n",
    "# taking the max argument\n",
    "#predicted = np.argmax(np.round(predicted),axis=1)\n",
    "print(\"size of predicted array ({0:d}x{1:d})\".format(predicted.shape[0],predicted.shape[1]))\n",
    "print(\"Posteriory Probabilities: \",predicted)"
   ]
  },
  {
   "cell_type": "code",
   "execution_count": 23,
   "metadata": {},
   "outputs": [],
   "source": [
    "# selecting the highest probability\n",
    "predicted_inverse = np.argmax(predicted,axis=1)\n",
    "y_test_inverse = np.argmax(y_test_one_hot, axis=1)"
   ]
  },
  {
   "cell_type": "code",
   "execution_count": 24,
   "metadata": {},
   "outputs": [
    {
     "name": "stdout",
     "output_type": "stream",
     "text": [
      "Found 9088 correct labels\n"
     ]
    },
    {
     "data": {
      "image/png": "[encoded data removed]",
      "text/plain": [
       "<Figure size 432x288 with 8 Axes>"
      ]
     },
     "metadata": {
      "needs_background": "light"
     },
     "output_type": "display_data"
    }
   ],
   "source": [
    "# Now let's select those samples that were correctly classified.\n",
    "correct = np.where(predicted_inverse==y_test_inverse)[0]\n",
    "print(\"Found %d correct labels\" % len(correct))\n",
    "for i, correct in enumerate(correct[:9]):\n",
    "    plt.subplot(3,3,i+1)\n",
    "    plt.imshow(x_test[correct].reshape(28,28), cmap='gray', interpolation='none')\n",
    "    plt.title(\"Predicted {}, Class {}\".format(predicted_inverse[correct], y_test_inverse[correct]))\n",
    "    plt.tight_layout()"
   ]
  },
  {
   "cell_type": "code",
   "execution_count": 25,
   "metadata": {},
   "outputs": [
    {
     "name": "stdout",
     "output_type": "stream",
     "text": [
      "              precision    recall  f1-score   support\n",
      "\n",
      "     Class 0       0.87      0.83      0.85      1000\n",
      "     Class 1       1.00      0.97      0.98      1000\n",
      "     Class 2       0.86      0.87      0.86      1000\n",
      "     Class 3       0.89      0.93      0.91      1000\n",
      "     Class 4       0.81      0.90      0.85      1000\n",
      "     Class 5       0.98      0.97      0.98      1000\n",
      "     Class 6       0.78      0.69      0.73      1000\n",
      "     Class 7       0.94      0.98      0.96      1000\n",
      "     Class 8       0.98      0.98      0.98      1000\n",
      "     Class 9       0.98      0.96      0.97      1000\n",
      "\n",
      "    accuracy                           0.91     10000\n",
      "   macro avg       0.91      0.91      0.91     10000\n",
      "weighted avg       0.91      0.91      0.91     10000\n",
      "\n"
     ]
    }
   ],
   "source": [
    "#Printing Classification reports\n",
    "from sklearn.metrics import classification_report\n",
    "target_names = [\"Class {}\".format(i) for i in range(num_classes)]\n",
    "print(classification_report(y_test_inverse, predicted_inverse, target_names=target_names))"
   ]
  },
  {
   "cell_type": "code",
   "execution_count": 26,
   "metadata": {},
   "outputs": [
    {
     "name": "stdout",
     "output_type": "stream",
     "text": [
      "[[829   0  16  21   6   2 117   1   8   0]\n",
      " [  3 971   0  18   4   0   2   1   1   0]\n",
      " [ 15   0 868  13  74   0  29   0   1   0]\n",
      " [ 13   2  10 934  18   0  21   1   1   0]\n",
      " [  2   0  42  30 904   0  21   0   1   0]\n",
      " [  0   0   0   0   0 974   0  17   0   9]\n",
      " [ 84   0  71  32 113   1 690   0   9   0]\n",
      " [  0   0   0   0   0  13   0 977   0  10]\n",
      " [  2   0   0   7   2   1   2   1 985   0]\n",
      " [  0   0   0   0   1   1   1  41   0 956]]\n"
     ]
    }
   ],
   "source": [
    "import sklearn.metrics as metrics\n",
    "confusion_matrix = metrics.confusion_matrix(y_true=y_test_inverse, y_pred=predicted_inverse)\n",
    "print(confusion_matrix)"
   ]
  }
 ],
 "metadata": {
  "kernelspec": {
   "display_name": "Python 3.9.7 ('base')",
   "language": "python",
   "name": "python3"
  },
  "language_info": {
   "codemirror_mode": {
    "name": "ipython",
    "version": 3
   },
   "file_extension": ".py",
   "mimetype": "text/x-python",
   "name": "python",
   "nbconvert_exporter": "python",
   "pygments_lexer": "ipython3",
   "version": "3.9.7"
  },
  "orig_nbformat": 4,
  "vscode": {
   "interpreter": {
    "hash": "48537609f0491a4e374724a8864aed50b564b0806a9c311cacb509fc89655065"
   }
  }
 },
 "nbformat": 4,
 "nbformat_minor": 2
}
