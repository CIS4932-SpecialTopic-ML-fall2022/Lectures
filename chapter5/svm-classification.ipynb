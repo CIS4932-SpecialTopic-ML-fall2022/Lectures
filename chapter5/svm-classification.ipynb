{
 "cells": [
  {
   "cell_type": "markdown",
   "metadata": {},
   "source": [
    "<center>SVM Classifier<center>"
   ]
  },
  {
   "cell_type": "code",
   "execution_count": 1,
   "metadata": {},
   "outputs": [],
   "source": [
    "import numpy as np\n",
    "import matplotlib.pyplot as plt\n",
    "from sklearn import svm, datasets\n",
    "from sklearn.model_selection import train_test_split\n",
    "from sklearn import metrics\n",
    "from sklearn.metrics import plot_confusion_matrix"
   ]
  },
  {
   "cell_type": "code",
   "execution_count": 2,
   "metadata": {},
   "outputs": [],
   "source": [
    "# import dataset\n",
    "iris = datasets.load_iris()\n",
    "x = iris.data[:,2:4]\n",
    "y = iris.target"
   ]
  },
  {
   "cell_type": "code",
   "execution_count": 3,
   "metadata": {},
   "outputs": [],
   "source": [
    "# Creating the model\n",
    "C = 1.0 #SVM regularization parameter\n",
    "\n",
    "svm = svm.SVC(kernel=\"linear\", C=C, gamma='auto').fit(x,y)"
   ]
  },
  {
   "cell_type": "code",
   "execution_count": 4,
   "metadata": {},
   "outputs": [],
   "source": [
    "# Create mesh to plot the sample\n",
    "x_min, x_max = x[:,0].min()- 0.5, x[:,0].max()- 0.5\n",
    "y_min, y_max = x[:,1].min()- 0.5, x[:,1].max()- 0.5\n",
    "\n",
    "h = (x_max/x_min)/100\n",
    "xx, yy = np.meshgrid(np.arange(x_min,x_max,h), np.arange(y_min,y_max,h))"
   ]
  },
  {
   "cell_type": "code",
   "execution_count": null,
   "metadata": {},
   "outputs": [],
   "source": [
    "\n",
    "plt.subplot(111)\n",
    "z = svm.predict(np.c_[xx.ravel(),yy.ravel()])\n",
    "z = z.reshape(xx.shape)\n",
    "plt.contour(xx,yy,z,cmp=plt.cm.Paired, alpha=0.8)\n",
    "plt.scatter(x[:,0],x[:,1],c=y,cmap=plt.cm.Paired)\n",
    "plt.xlabel('Petal lenght')\n",
    "plt.ylabel('Petal width')\n",
    "plt.xlim(xx.min(),xx.max())\n",
    "plt.title('SVC with linear kernel')\n",
    "plt.show()"
   ]
  }
 ],
 "metadata": {
  "kernelspec": {
   "display_name": "Python 3.9.7 ('base')",
   "language": "python",
   "name": "python3"
  },
  "language_info": {
   "codemirror_mode": {
    "name": "ipython",
    "version": 3
   },
   "file_extension": ".py",
   "mimetype": "text/x-python",
   "name": "python",
   "nbconvert_exporter": "python",
   "pygments_lexer": "ipython3",
   "version": "3.9.7"
  },
  "orig_nbformat": 4,
  "vscode": {
   "interpreter": {
    "hash": "48537609f0491a4e374724a8864aed50b564b0806a9c311cacb509fc89655065"
   }
  }
 },
 "nbformat": 4,
 "nbformat_minor": 2
}
